{
  "nbformat": 4,
  "nbformat_minor": 0,
  "metadata": {
    "colab": {
      "name": "Twitter Scraping & Visualization.ipynb",
      "provenance": [],
      "collapsed_sections": []
    },
    "kernelspec": {
      "name": "python3",
      "display_name": "Python 3"
    },
    "accelerator": "GPU"
  },
  "cells": [
    {
      "cell_type": "code",
      "metadata": {
        "id": "_bxdPPTf-dMf",
        "colab_type": "code",
        "colab": {
          "base_uri": "https://localhost:8080/",
          "height": 71
        },
        "outputId": "aac46d40-b6ae-41c7-d406-9bac0cdb1a91"
      },
      "source": [
        "from twitterscraper import query_tweets\n",
        "from twitterscraper.query import query_tweets_from_user\n",
        "\n",
        "import datetime as dt\n",
        "import pandas as pd\n",
        "import numpy as np\n",
        "import matplotlib.pyplot as plt\n",
        "import seaborn as sns\n",
        "\n",
        "plt.style.use('dark_background')"
      ],
      "execution_count": 1,
      "outputs": [
        {
          "output_type": "stream",
          "text": [
            "/usr/local/lib/python3.6/dist-packages/statsmodels/tools/_testing.py:19: FutureWarning: pandas.util.testing is deprecated. Use the functions in the public API at pandas.testing instead.\n",
            "  import pandas.util.testing as tm\n"
          ],
          "name": "stderr"
        }
      ]
    },
    {
      "cell_type": "code",
      "metadata": {
        "id": "ATWD3A3V_HvL",
        "colab_type": "code",
        "colab": {}
      },
      "source": [
        "users = ['binusonline', 'unj_official', 'pintaria_id', 'lsprjakarta']\n",
        "tweets = []\n",
        "\n",
        "for i in range(len(users)):\n",
        "  tweets.append(query_tweets_from_user(users[i]))"
      ],
      "execution_count": 2,
      "outputs": []
    },
    {
      "cell_type": "code",
      "metadata": {
        "id": "8UfrwPTcCs7b",
        "colab_type": "code",
        "colab": {}
      },
      "source": [
        "output = [] \n",
        "  \n",
        "def twitter(tweets): \n",
        "  for i in tweets: \n",
        "    if type(i) == list: \n",
        "        twitter(i) \n",
        "    else: \n",
        "        output.append(i) "
      ],
      "execution_count": 3,
      "outputs": []
    },
    {
      "cell_type": "code",
      "metadata": {
        "id": "waa_dOUlD_d0",
        "colab_type": "code",
        "colab": {}
      },
      "source": [
        "twitter(tweets)"
      ],
      "execution_count": 4,
      "outputs": []
    },
    {
      "cell_type": "code",
      "metadata": {
        "id": "gI0a4qJZECLW",
        "colab_type": "code",
        "colab": {}
      },
      "source": [
        "df = pd.DataFrame(t.__dict__ for t in output)"
      ],
      "execution_count": 5,
      "outputs": []
    },
    {
      "cell_type": "code",
      "metadata": {
        "id": "W6Q3LcBfDIwO",
        "colab_type": "code",
        "colab": {
          "base_uri": "https://localhost:8080/",
          "height": 581
        },
        "outputId": "54f872fb-d429-4f65-86a5-1b973164a936"
      },
      "source": [
        "df.head()"
      ],
      "execution_count": 6,
      "outputs": [
        {
          "output_type": "execute_result",
          "data": {
            "text/html": [
              "<div>\n",
              "<style scoped>\n",
              "    .dataframe tbody tr th:only-of-type {\n",
              "        vertical-align: middle;\n",
              "    }\n",
              "\n",
              "    .dataframe tbody tr th {\n",
              "        vertical-align: top;\n",
              "    }\n",
              "\n",
              "    .dataframe thead th {\n",
              "        text-align: right;\n",
              "    }\n",
              "</style>\n",
              "<table border=\"1\" class=\"dataframe\">\n",
              "  <thead>\n",
              "    <tr style=\"text-align: right;\">\n",
              "      <th></th>\n",
              "      <th>screen_name</th>\n",
              "      <th>username</th>\n",
              "      <th>user_id</th>\n",
              "      <th>tweet_id</th>\n",
              "      <th>tweet_url</th>\n",
              "      <th>timestamp</th>\n",
              "      <th>timestamp_epochs</th>\n",
              "      <th>text</th>\n",
              "      <th>text_html</th>\n",
              "      <th>links</th>\n",
              "      <th>hashtags</th>\n",
              "      <th>has_media</th>\n",
              "      <th>img_urls</th>\n",
              "      <th>video_url</th>\n",
              "      <th>likes</th>\n",
              "      <th>retweets</th>\n",
              "      <th>replies</th>\n",
              "      <th>is_replied</th>\n",
              "      <th>is_reply_to</th>\n",
              "      <th>parent_tweet_id</th>\n",
              "      <th>reply_to_users</th>\n",
              "    </tr>\n",
              "  </thead>\n",
              "  <tbody>\n",
              "    <tr>\n",
              "      <th>0</th>\n",
              "      <td>binusonline</td>\n",
              "      <td>BINUSOnlineLearning</td>\n",
              "      <td>245204182</td>\n",
              "      <td>1117732103896977408</td>\n",
              "      <td>/binusonline/status/1117732103896977408</td>\n",
              "      <td>2019-04-15 10:11:14</td>\n",
              "      <td>1555323074</td>\n",
              "      <td>Program tersebut dirancang dengan menggunakan ...</td>\n",
              "      <td>&lt;p class=\"TweetTextSize TweetTextSize--normal ...</td>\n",
              "      <td>[]</td>\n",
              "      <td>[]</td>\n",
              "      <td>False</td>\n",
              "      <td>[]</td>\n",
              "      <td></td>\n",
              "      <td>2</td>\n",
              "      <td>0</td>\n",
              "      <td>1</td>\n",
              "      <td>True</td>\n",
              "      <td>False</td>\n",
              "      <td></td>\n",
              "      <td>[]</td>\n",
              "    </tr>\n",
              "    <tr>\n",
              "      <th>1</th>\n",
              "      <td>binusonline</td>\n",
              "      <td>BINUSOnlineLearning</td>\n",
              "      <td>245204182</td>\n",
              "      <td>1117732071089135617</td>\n",
              "      <td>/binusonline/status/1117732071089135617</td>\n",
              "      <td>2019-04-15 10:11:06</td>\n",
              "      <td>1555323066</td>\n",
              "      <td>Kebutuhan terhadap perkembangan teknologi yang...</td>\n",
              "      <td>&lt;p class=\"TweetTextSize TweetTextSize--normal ...</td>\n",
              "      <td>[]</td>\n",
              "      <td>[]</td>\n",
              "      <td>True</td>\n",
              "      <td>[https://pbs.twimg.com/media/D4L7XsBUcAEMO2f.j...</td>\n",
              "      <td></td>\n",
              "      <td>1</td>\n",
              "      <td>0</td>\n",
              "      <td>0</td>\n",
              "      <td>False</td>\n",
              "      <td>False</td>\n",
              "      <td></td>\n",
              "      <td>[]</td>\n",
              "    </tr>\n",
              "    <tr>\n",
              "      <th>2</th>\n",
              "      <td>binusonline</td>\n",
              "      <td>BINUSOnlineLearning</td>\n",
              "      <td>245204182</td>\n",
              "      <td>1106828433852514305</td>\n",
              "      <td>/binusonline/status/1106828433852514305</td>\n",
              "      <td>2019-03-16 08:03:57</td>\n",
              "      <td>1552723437</td>\n",
              "      <td>Tujuan BINUS Online Learning hadir di Bandung ...</td>\n",
              "      <td>&lt;p class=\"TweetTextSize TweetTextSize--normal ...</td>\n",
              "      <td>[]</td>\n",
              "      <td>[]</td>\n",
              "      <td>True</td>\n",
              "      <td>[https://pbs.twimg.com/media/D1w-kipU4AAhdNh.j...</td>\n",
              "      <td></td>\n",
              "      <td>2</td>\n",
              "      <td>0</td>\n",
              "      <td>0</td>\n",
              "      <td>False</td>\n",
              "      <td>False</td>\n",
              "      <td></td>\n",
              "      <td>[]</td>\n",
              "    </tr>\n",
              "    <tr>\n",
              "      <th>3</th>\n",
              "      <td>binusonline</td>\n",
              "      <td>BINUSOnlineLearning</td>\n",
              "      <td>245204182</td>\n",
              "      <td>1106828370115911680</td>\n",
              "      <td>/binusonline/status/1106828370115911680</td>\n",
              "      <td>2019-03-16 08:03:41</td>\n",
              "      <td>1552723421</td>\n",
              "      <td>BINUS ONLINE LEARNING menjawab kebutuhan masya...</td>\n",
              "      <td>&lt;p class=\"TweetTextSize TweetTextSize--normal ...</td>\n",
              "      <td>[]</td>\n",
              "      <td>[]</td>\n",
              "      <td>True</td>\n",
              "      <td>[https://pbs.twimg.com/media/D1w-hNLVAAEYFDa.j...</td>\n",
              "      <td></td>\n",
              "      <td>1</td>\n",
              "      <td>0</td>\n",
              "      <td>0</td>\n",
              "      <td>False</td>\n",
              "      <td>False</td>\n",
              "      <td></td>\n",
              "      <td>[]</td>\n",
              "    </tr>\n",
              "    <tr>\n",
              "      <th>4</th>\n",
              "      <td>binusonline</td>\n",
              "      <td>BINUSOnlineLearning</td>\n",
              "      <td>245204182</td>\n",
              "      <td>1104940004285927426</td>\n",
              "      <td>/binusonline/status/1104940004285927426</td>\n",
              "      <td>2019-03-11 03:00:00</td>\n",
              "      <td>1552273200</td>\n",
              "      <td>Selamat hari senin BINUSIAN, tetap semangat me...</td>\n",
              "      <td>&lt;p class=\"TweetTextSize TweetTextSize--normal ...</td>\n",
              "      <td>[]</td>\n",
              "      <td>[]</td>\n",
              "      <td>True</td>\n",
              "      <td>[https://pbs.twimg.com/media/D0zq3cjVsAAnNK3.jpg]</td>\n",
              "      <td></td>\n",
              "      <td>1</td>\n",
              "      <td>0</td>\n",
              "      <td>1</td>\n",
              "      <td>True</td>\n",
              "      <td>False</td>\n",
              "      <td></td>\n",
              "      <td>[]</td>\n",
              "    </tr>\n",
              "  </tbody>\n",
              "</table>\n",
              "</div>"
            ],
            "text/plain": [
              "   screen_name             username  ... parent_tweet_id reply_to_users\n",
              "0  binusonline  BINUSOnlineLearning  ...                             []\n",
              "1  binusonline  BINUSOnlineLearning  ...                             []\n",
              "2  binusonline  BINUSOnlineLearning  ...                             []\n",
              "3  binusonline  BINUSOnlineLearning  ...                             []\n",
              "4  binusonline  BINUSOnlineLearning  ...                             []\n",
              "\n",
              "[5 rows x 21 columns]"
            ]
          },
          "metadata": {
            "tags": []
          },
          "execution_count": 6
        }
      ]
    },
    {
      "cell_type": "code",
      "metadata": {
        "id": "JWkWK3pJRdTw",
        "colab_type": "code",
        "colab": {}
      },
      "source": [
        "data = df[(df['screen_name'].isin(['binusonline','UNJ_Official', 'pintaria_id', 'LSPRJakarta']))]"
      ],
      "execution_count": 7,
      "outputs": []
    },
    {
      "cell_type": "code",
      "metadata": {
        "id": "RUnUV0W4HAok",
        "colab_type": "code",
        "colab": {}
      },
      "source": [
        "twitter_crawl = data[['username', 'tweet_url','timestamp','text','img_urls','video_url','likes','retweets','replies']]"
      ],
      "execution_count": 8,
      "outputs": []
    },
    {
      "cell_type": "code",
      "metadata": {
        "id": "wc-xvEh4Uk7Z",
        "colab_type": "code",
        "colab": {
          "base_uri": "https://localhost:8080/",
          "height": 289
        },
        "outputId": "29a0532e-04e6-4d66-cc5d-7923dadfbe35"
      },
      "source": [
        "twitter_crawl.info()"
      ],
      "execution_count": 9,
      "outputs": [
        {
          "output_type": "stream",
          "text": [
            "<class 'pandas.core.frame.DataFrame'>\n",
            "Int64Index: 2139 entries, 0 to 2209\n",
            "Data columns (total 9 columns):\n",
            " #   Column     Non-Null Count  Dtype         \n",
            "---  ------     --------------  -----         \n",
            " 0   username   2139 non-null   object        \n",
            " 1   tweet_url  2139 non-null   object        \n",
            " 2   timestamp  2139 non-null   datetime64[ns]\n",
            " 3   text       2139 non-null   object        \n",
            " 4   img_urls   2139 non-null   object        \n",
            " 5   video_url  2139 non-null   object        \n",
            " 6   likes      2139 non-null   int64         \n",
            " 7   retweets   2139 non-null   int64         \n",
            " 8   replies    2139 non-null   int64         \n",
            "dtypes: datetime64[ns](1), int64(3), object(5)\n",
            "memory usage: 167.1+ KB\n"
          ],
          "name": "stdout"
        }
      ]
    },
    {
      "cell_type": "code",
      "metadata": {
        "id": "d9GBVCBQH6g3",
        "colab_type": "code",
        "colab": {}
      },
      "source": [
        "twitter_crawl.to_csv('UnivTwitterCrawl.csv', index=False)"
      ],
      "execution_count": 10,
      "outputs": []
    },
    {
      "cell_type": "code",
      "metadata": {
        "id": "h-vlLKhSKp_r",
        "colab_type": "code",
        "colab": {
          "base_uri": "https://localhost:8080/",
          "height": 497
        },
        "outputId": "a5bb05a7-941d-4a71-9201-2e476db4bfd5"
      },
      "source": [
        "plt.figure(figsize=(12,8))\n",
        "sns.countplot(x='username', data = twitter_crawl)\n",
        "plt.show()"
      ],
      "execution_count": 11,
      "outputs": [
        {
          "output_type": "display_data",
          "data": {
            "image/png": "[encoded data removed]",
            "text/plain": [
              "<Figure size 864x576 with 1 Axes>"
            ]
          },
          "metadata": {
            "tags": [],
            "needs_background": "dark"
          }
        }
      ]
    },
    {
      "cell_type": "code",
      "metadata": {
        "id": "9_MIrqYQXw49",
        "colab_type": "code",
        "colab": {
          "base_uri": "https://localhost:8080/",
          "height": 119
        },
        "outputId": "707d2480-712a-4d8a-9630-43bcb949db53"
      },
      "source": [
        "retweets = twitter_crawl.groupby(['username'])['retweets'].agg('sum')\n",
        "retweets"
      ],
      "execution_count": 17,
      "outputs": [
        {
          "output_type": "execute_result",
          "data": {
            "text/plain": [
              "username\n",
              "BINUSOnlineLearning                         110\n",
              "LSPR Communication & Business Institute     171\n",
              "Pintaria                                      0\n",
              "UNIV. NEGERI JAKARTA                       7452\n",
              "Name: retweets, dtype: int64"
            ]
          },
          "metadata": {
            "tags": []
          },
          "execution_count": 17
        }
      ]
    },
    {
      "cell_type": "code",
      "metadata": {
        "id": "ahmX7_YSfaJb",
        "colab_type": "code",
        "colab": {
          "base_uri": "https://localhost:8080/",
          "height": 119
        },
        "outputId": "79ba5215-7845-46fa-d6ce-820f4fd53083"
      },
      "source": [
        "likes = twitter_crawl.groupby(['username'])['likes'].agg('sum')\n",
        "likes"
      ],
      "execution_count": 18,
      "outputs": [
        {
          "output_type": "execute_result",
          "data": {
            "text/plain": [
              "username\n",
              "BINUSOnlineLearning                          480\n",
              "LSPR Communication & Business Institute      710\n",
              "Pintaria                                       3\n",
              "UNIV. NEGERI JAKARTA                       11106\n",
              "Name: likes, dtype: int64"
            ]
          },
          "metadata": {
            "tags": []
          },
          "execution_count": 18
        }
      ]
    }
  ]
}